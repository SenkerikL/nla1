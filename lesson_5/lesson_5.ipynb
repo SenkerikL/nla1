{
 "cells": [
  {
   "attachments": {},
   "cell_type": "markdown",
   "metadata": {},
   "source": [
    "# Cvičení 5\n",
    "\n",
    "Tématem tohoto cvičení je iterační řešení soustav lineárních rovnic.\n",
    "\n",
    "## Jacobiho a Gaussova-Seidelova metoda\n",
    "\n",
    "### Příklad 1\n",
    "\n",
    "Připomeňme, že předpis pro $i$-tý prvek vektoru $\\mathbf{x}^{k+1}$ je v případě Jacobiho metody\n",
    "$$(\\mathbf{x}^{k+1})_i = \\frac{1}{a_{i,i}}\\left(b_i - \\sum_{j=1, j\\neq i}^n a_{i, j}(\\mathbf{x}^k)_j\\right)$$\n",
    "a v případě Gaussovy-Seidelovy metody\n",
    "$$(\\mathbf{x}^{k+1})_i = \\frac{1}{a_{i,i}}\\left(b_i - \\sum_{j=1}^{i-1} a_{i, j}(\\mathbf{x}^k)_j - \\sum_{j=i+1}^{n} a_{i, j}(\\mathbf{x}^k)_j\\right).$$\n",
    "\n",
    "\n",
    "Mějme soustavu rovnic $\\mathsf{A}\\mathbf{x}=\\mathbf{b}$\n",
    "\n",
    "$$\n",
    "\\mathsf{A}=\n",
    "\\begin{bmatrix}\n",
    "4 & 2 & 1 \\\\\n",
    "3 & 10 & 3 \\\\\n",
    "1 & 1 &5\n",
    "\\end{bmatrix},\\qquad\n",
    "\\mathbf{b} = \n",
    "\\begin{bmatrix}\n",
    "2 \\\\ 4 \\\\ 3\n",
    "\\end{bmatrix}\n",
    "$$\n",
    "\n",
    "1) Nalezněte přibližné řešení $\\mathbf{x}^3$ této soustavy pomocí tří iterací Jacobiho metody (ručně). Jako počáteční vektor volte\n",
    "$$\\mathbf{x}^0=\n",
    "\\begin{bmatrix}\n",
    "1\\\\1\\\\1\n",
    "\\end{bmatrix}\n",
    "$$\n",
    "\n",
    "2) Nalezněte přibližné řešení $\\mathbf{x}^3$ této soustavy pomocí tří iterací Gaussovy-Seidelovy metody (ručně). Počáteční vektor volte stejně.\n",
    "\n",
    "3) Určete přesné řešení $\\mathbf{x}$ pomocí NumPy (přes `numpy.linalg.solve`). Pomocí něj vypočtěte normy chyb a reziduí vámi nalezených řešení:\n",
    "\n",
    "$$\\|\\mathbf{e}_{\\mathrm{Jacobi}}\\| = \\|\\mathbf{x}_{\\mathrm{Jacobi}} - \\mathbf{x}\\|$$\n",
    "$$\\|\\mathbf{e}_{\\mathrm{Gauss-Seidel}}\\| = \\|\\mathbf{x}_{\\mathrm{Gauss-Seidel}} - \\mathbf{x}\\|$$\n",
    "$$\\|\\mathbf{r}_{\\mathrm{Jacobi}}\\| = \\|\\mathbf{b} - \\mathsf{A}\\mathbf{x}_{\\mathrm{Jacobi}}\\|$$\n",
    "$$\\|\\mathbf{r}_{\\mathrm{Gauss-Seidel}}\\| = \\|\\mathbf{b} - \\mathsf{A}\\mathbf{x}_{\\mathrm{Gauss-Seidel}}\\|$$\n",
    "\n",
    "Porovnejte přesnost řešení jednotlivými metodami."
   ]
  },
  {
   "attachments": {},
   "cell_type": "markdown",
   "metadata": {},
   "source": [
    "### Příklad 2\n",
    "\n",
    "Naprogramujte funkci `jacobi()`, která implementuje Jacobiho iterační metodu. Na vstupu bude matice `A`, vektor pravé strany `b`, počáteční odhad `x0`, relativní přesnost `tol` a maximální počet iterací `max_it`. Funkce vrátí vektor řešení, skutečný počet iterací a dosaženou přesnost (normu vektoru rezidua $\\|\\mathbf{r}^{k}\\|$). \n",
    "\n",
    "Jako počáteční vektor volte vektor samých nul.\n",
    "\n",
    "Ukončovací podmínku volte ve tvaru relativní změny rezidua:\n",
    "$$\\|\\frac{\\mathbf{r}^{k}}{\\mathbf{r}^{0}}\\| < \\varepsilon$$\n",
    "\n",
    "Vyjít můžete např. z následujícího pseudokódu:\n",
    "\n",
    "\n",
    "$$\n",
    "\\begin{array}{l}\n",
    "\\text{Input: matrix } A, \\text{ right-hand side vector } b, \\text{ initial approximation } x_0, \\text{ tolerance tol, maximum number of iterations max\\_it.}\\\\\n",
    "\\text{1. Set iteration counter } k = 0\\text{, set } x_{\\mathrm{prev}} = x_0  \\\\\n",
    "\\text{2. Calculate the initial residual norm } \\text{res\\_norm\\_0} = \\text{res\\_norm} = ||b-A*x_0||\\\\\n",
    "\\text{3. \\bf{while} } \\text{res\\_norm/res\\_norm\\_0 > tol and k < max\\_it \\bf{do}}\\\\\n",
    "\\quad\\begin{array}{l}\n",
    "\\text{1. Initialize a new solution vector } x_\\text{new}\\\\\n",
    "\\text{2. \\bf{for} } i = 1 \\text{ to } n \\text{ \\bf{do} } \\text{(where } n \\text{ is the number of rows in } A)\\\\\n",
    "\\qquad\\begin{array}{l}\n",
    "\\text{1. Calculate the sum of } A(i, j) * x_{\\mathrm{prev}}(j) \\text{ for all } j \\neq i\\\\\n",
    "\\text{2. Update } x_\\text{new}(i) = (b(i) - \\text{sum}) / A(i, i)\\\\\n",
    "\\end{array}\\\\\n",
    "\\text{3. end for}\\\\\n",
    "\\text{4. Calculate the residual norm: } \\text{res\\_norm} = ||b-A*x_\\text{new}||\\\\\n",
    "\\text{5. Update the solution: } x_{\\mathrm{prev}} = x_\\text{new}\\\\\n",
    "\\text{6. Increment the iteration counter: } k = k + 1\\\\\n",
    "\\end{array}\\\\\n",
    "\\text{4. end while}\\\\\n",
    "\\text{5. The solution is stored in } x_\\text{new}\\\\\n",
    "\\end{array}\n",
    "$$\n",
    "\n",
    "**Poznámka**: potřebujete násobit matici a vektor, dbejte tedy na správné rozměry jednotlivých vektorů.\n"
   ]
  },
  {
   "cell_type": "code",
   "execution_count": 3,
   "metadata": {},
   "outputs": [],
   "source": [
    "import numpy as np"
   ]
  },
  {
   "cell_type": "code",
   "execution_count": 4,
   "metadata": {},
   "outputs": [],
   "source": [
    "# UKOL: \n",
    "# 1. vygenerujte vhodnou systemovou matici (nahodnou diagonalne dominantni matici, napr. rozmeru 5x5)\n",
    "# 2. vygenerujte nahodny vektor prave strany\n",
    "# 3. vygenerujte počáteční vektor x0 (nulovy vektor)\n",
    "\n",
    "A = np.random.rand(5,5)\n",
    "A = A + 4 * np.eye(5)\n",
    "b = np.random.rand(5,1)\n",
    "x0 = np.zeros((5,1))"
   ]
  },
  {
   "cell_type": "code",
   "execution_count": 5,
   "metadata": {},
   "outputs": [],
   "source": [
    "# UKOL: Doplnte chybejici kod funkce jacobi\n",
    "\n",
    "def jacobi(A, b, x0, tol, max_it):\n",
    "\n",
    "    m, n = np.shape(A)\n",
    "\n",
    "    k = 0                               # citac iteraci\n",
    "    r0 = np.linalg.norm(b - A@x0)       # pocatecni norma rezidua\n",
    "    r = r0\n",
    "\n",
    "    x_prev = np.copy(x0)                # potrebujeme x_prev na zaklade ktereho budeme pocitat x_new\n",
    "\n",
    "    while r/r0 > tol and k < max_it:\n",
    "        x_new = np.zeros_like(x0)\n",
    "        for i in range(m):\n",
    "            suma = 0\n",
    "            for j in range(n):\n",
    "                if j != i:\n",
    "                    suma += (A[i,j] * x_prev[j])\n",
    "            x_new[i] = (b[i] - suma)/A[i,i]\n",
    "        x_prev = x_new.copy()\n",
    "        r = np.linalg.norm(b - A @ x_new)\n",
    "        k += 1\n",
    "\n",
    "        # doplnte\n",
    "        \n",
    "    return x_new, k, r"
   ]
  },
  {
   "cell_type": "code",
   "execution_count": 6,
   "metadata": {},
   "outputs": [
    {
     "name": "stdout",
     "output_type": "stream",
     "text": [
      "Vase reseni: \n",
      "[[0.01119734]\n",
      " [0.018659  ]\n",
      " [0.08282056]\n",
      " [0.09756218]\n",
      " [0.11054441]]\n",
      "Numpy reseni: \n",
      "[[0.01119089]\n",
      " [0.01865405]\n",
      " [0.08281542]\n",
      " [0.09755888]\n",
      " [0.11053879]]\n"
     ]
    }
   ],
   "source": [
    "# UKOL: Otestujte vami vytvorenou metodu\n",
    "# 1. porovnejte reseni pomoci vasi metody a zabudovane numpy metody solve\n",
    "# 2. vytisknete pocet iteraci potrebnych k dosazeni reseni a normu rezidua\n",
    "\n",
    "x, k, r = jacobi(A, b, x0, 1e-4, 1000)\n",
    "\n",
    "x_numpy = np.linalg.solve(A,b)\n",
    "print(\"Vase reseni: \")\n",
    "print(x)\n",
    "print(\"Numpy reseni: \")\n",
    "print(x_numpy)\n",
    "# vytisknete pocet iteraci a normu rezidua"
   ]
  },
  {
   "attachments": {},
   "cell_type": "markdown",
   "metadata": {},
   "source": [
    "## Richardsonova metoda\n",
    "\n",
    "Základní tvar Richardsonovy iterační metody je \n",
    "$$\\mathbf{x}^{k+1} = \\mathbf{x}^k + \\omega\\mathbf{r}^k,$$\n",
    "kde $\\omega>0$ a $\\mathbf{r}^k = \\mathbf{b}-\\mathsf{A}\\mathbf{x}^k$ je reziduum. \n",
    "\n",
    "Volbou hodnoty $\\omega$ jsme schopni ovlivnit rychlost konvergence metody. Optimální hodnota je \n",
    "$$\\omega = \\frac{2}{\\lambda_{\\mathrm{min}}+\\lambda_{\\mathrm{max}}}$$\n",
    "\n",
    "Metoda konverguje pro $\\omega\\in(0, 2/\\lambda_{\\mathrm{max}})$.\n",
    "\n",
    "Následující funkce má jako volitelný parameter hodnotu `omega`. Doplňte do ní výpočet optimální hodnoty `omega`, pokud ji uživatel nezadá na vstupu.\n",
    "\n",
    "**Tip**: budete potřebovat funkci `eigh` z NumPy, která slouží k určení vlastních čísel reálné symetrické matice."
   ]
  },
  {
   "cell_type": "code",
   "execution_count": 7,
   "metadata": {},
   "outputs": [],
   "source": [
    "from numpy.linalg import eigh\n",
    "\n",
    "def richardson(A, b, x0, tol, max_it, omega=None):\n",
    "\n",
    "    r_init = np.linalg.norm(b - A@x0)\n",
    "    x = x0.copy()\n",
    "    r = b - A.dot(x)\n",
    "    \n",
    "    if omega is None:\n",
    "        vl = np.linalg.eigh(A)[0]\n",
    "        omega = 2/(min(vl) + max(vl))\n",
    "        # UKOL: Doplnte vypocet optimalni hodnoty omega:\n",
    "\n",
    "    k = 0\n",
    "    \n",
    "    while np.linalg.norm(r) / r_init > tol and k < max_it:\n",
    "        # UKOL: Doplnte chybejici kod\n",
    "        x = x + omega * r\n",
    "        r = b - A @ x\n",
    "        k += 1\n",
    "\n",
    "    return x, k"
   ]
  },
  {
   "cell_type": "code",
   "execution_count": 8,
   "metadata": {},
   "outputs": [
    {
     "name": "stdout",
     "output_type": "stream",
     "text": [
      "[[ 0.14030656]\n",
      " [-0.01174273]\n",
      " [ 0.09617868]\n",
      " [ 0.03653954]\n",
      " [ 0.14950365]]\n",
      "Pocet iteraci: 7\n",
      "[[ 0.1402992 ]\n",
      " [-0.01175204]\n",
      " [ 0.09617128]\n",
      " [ 0.03653298]\n",
      " [ 0.14949896]]\n"
     ]
    }
   ],
   "source": [
    "# Otestujeme vasi implementaci\n",
    "\n",
    "A = np.random.rand(5, 5)\n",
    "A = 0.5*(A + A.T)           # zajisti symetrii\n",
    "A = A + 5 * np.eye(5)  \n",
    "b = np.random.rand(5, 1)\n",
    "x0 = np.zeros((5, 1))\n",
    "\n",
    "\n",
    "x, k = richardson(A, b, x0, 0.0001, 100)\n",
    "print(x)\n",
    "print(\"Pocet iteraci: {}\".format(k))\n",
    "print(np.linalg.solve(A, b))"
   ]
  },
  {
   "attachments": {},
   "cell_type": "markdown",
   "metadata": {},
   "source": [
    "Nakonec otestujeme, jak počet iterací Richardsonovy metody závisí na parametru `omega`. Následující kód tedy:\n",
    "1. Vygeneruje symetrickou pozitivně definitní matici rozměru $10\\times 10$,\n",
    "2. určí její nejmenší a největší vlastní číslo,\n",
    "3. podle těchto vlastních čísel určí maximální možnou velikost parametru `omega` zajišťující konvergenci,\n",
    "4. určí optimální `omega`,\n",
    "5. řeší soustavu postupně pro různá omega mezi 0 a `omega_max` voláním vámi implementované metody,\n",
    "6. vykreslí do grafu potřebný počet iterací v závislosti na `omega`"
   ]
  },
  {
   "cell_type": "code",
   "execution_count": 9,
   "metadata": {},
   "outputs": [
    {
     "data": {
      "image/png": "[encoded data removed]",
      "text/plain": [
       "<Figure size 432x288 with 1 Axes>"
      ]
     },
     "metadata": {
      "needs_background": "light"
     },
     "output_type": "display_data"
    }
   ],
   "source": [
    "import matplotlib.pyplot as plt\n",
    "\n",
    "# vygenerujeme matici, vektor prave strany\n",
    "m = 10\n",
    "A = np.random.rand(m, m)\n",
    "A = A + A.T\n",
    "max_row_sum = np.linalg.norm(A, np.inf)\n",
    "A = A + 2*m * np.eye(m) \n",
    "b = np.random.rand(m, 1)\n",
    "\n",
    "# vypocitame optimalni omega, max. omega\n",
    "lambda_min = np.linalg.eigh(A)[0][0]\n",
    "lambda_max = np.linalg.eigh(A)[0][-1]\n",
    "omega_max = 2 / lambda_max\n",
    "omega_opt = 2 / (lambda_min + lambda_max)\n",
    "rho_opt = 1 - omega_opt * lambda_min\n",
    "\n",
    "# vytvorime pole hodnot mezi 0 a omega_max\n",
    "omegas = np.linspace(omega_max * 0.05, omega_max * 0.95, 200)\n",
    "\n",
    "epsilon = 1e-3\n",
    "max_it = 200\n",
    "k_opt = np.log(epsilon) / np.log(rho_opt) # odhad potrebneho poctu iteraci pri omega_opt\n",
    "\n",
    "# pocatecni odhad reseni\n",
    "x0 = np.random.rand(m, 1)\n",
    "\n",
    "# pole, do ktereho ukladame pocty iteraci v zavislosti na omega\n",
    "n_iters = np.zeros(len(omegas))\n",
    "\n",
    "# vyresime postupne ve smycce pro ruzna omega\n",
    "for i in range(len(omegas)):\n",
    "    _, n_iters[i] = richardson(A, b, x0, epsilon, max_it, omegas[i])\n",
    "\n",
    "# vykreslime\n",
    "plt.figure()\n",
    "plt.bar(omegas, n_iters, omegas[1]-omegas[0], align='edge')\n",
    "plt.title('Pocet iteraci Richardsonovy metody v zavislosti na omega', fontsize=14)\n",
    "plt.xlabel('omega', fontsize=12)\n",
    "plt.ylabel('pocet iteraci', fontsize=12)\n",
    "plt.xticks(fontsize=12)\n",
    "plt.yticks(fontsize=12)\n",
    "plt.axvline(x=omega_opt, linestyle='--', color='red', label='Opt. omega', linewidth=2)\n",
    "plt.axvline(x=omega_max, linestyle='--', color='blue', label='Max. omega', linewidth=2)\n",
    "plt.axhline(y=k_opt, linestyle='--', color='yellow', label='Opt. pocet iteraci', linewidth=2)\n",
    "plt.grid(True)\n",
    "plt.legend(fontsize=12)\n",
    "plt.show()\n"
   ]
  },
  {
   "attachments": {},
   "cell_type": "markdown",
   "metadata": {},
   "source": [
    "## Domácí úkol\n",
    "\n",
    "Implementujte Gaussovu-Seidelovu iterační metodu. Funkce `gauss_seidel` bude mít stejné vstupy a výstupy jako `jacobi`. Vyjděte z funkce `jacobi`, kterou vhodně upravte.\n",
    "\n",
    "**Odevzdání**: Celý tento notebook zašlete na e-mail vyučujícího do 6. 4. 2023 16:00. Jako předmět uveďte \"NLA1 DU3\"."
   ]
  },
  {
   "cell_type": "code",
   "execution_count": 10,
   "metadata": {},
   "outputs": [],
   "source": [
    "# UKOL: Doplnte.\n",
    "\n",
    "def gauss_seidel(A, b, x0, tol, max_it):\n",
    "    m, n = np.shape(A)\n",
    "\n",
    "    k = 0                               # citac iteraci\n",
    "    r0 = np.linalg.norm(b - A@x0)       # pocatecni norma rezidua\n",
    "    r = r0\n",
    "\n",
    "    x_prev = np.copy(x0)                # potrebujeme x_prev na zaklade ktereho budeme pocitat x_new\n",
    "\n",
    "    while r/r0 > tol and k < max_it:\n",
    "        x_new = np.zeros_like(x0)\n",
    "        for i in range(m):\n",
    "            suma = 0\n",
    "            for j in range(n):\n",
    "                if j != i:\n",
    "                    if j<i:\n",
    "                        suma += (A[i,j] * x_new[j])\n",
    "                    else:\n",
    "                        suma += (A[i,j] * x_prev[j])\n",
    "            x_new[i] = (b[i] - suma)/A[i,i]\n",
    "        x_prev = x_new.copy()\n",
    "        r = np.linalg.norm(b - A @ x_new)\n",
    "        k += 1\n",
    "\n",
    "        # doplnte\n",
    "        \n",
    "    return x_new, k, r\n",
    "    \n",
    "    "
   ]
  },
  {
   "cell_type": "code",
   "execution_count": 11,
   "metadata": {},
   "outputs": [
    {
     "name": "stdout",
     "output_type": "stream",
     "text": [
      "Vase reseni: \n",
      "[[0.29298653]\n",
      " [0.1592408 ]\n",
      " [0.50955453]]\n",
      "Numpy reseni: \n",
      "[[0.29299363]\n",
      " [0.15923567]\n",
      " [0.50955414]]\n",
      "Metoda dokonvergovala k reseni v 7 iteracich.\n",
      "Norma rezidua je 3.5917180685905035e-05.\n"
     ]
    }
   ],
   "source": [
    "# Zavolejte tuto bunku a otestujte, ze vase metoda funguje spravne\n",
    "\n",
    "# sestavime diagonalne dominantni matici, vektor prave strany, pocatecni odhad reseni\n",
    "A = np.array([[4, 2, 1], [3, 10, 3], [1, 1, 5]])\n",
    "b = np.array([[2, 4, 3]]).T\n",
    "x0 = np.ones((3, 1))\n",
    "\n",
    "# zavolame vasi metodu\n",
    "x, k, r = gauss_seidel(A, b, x0, 1e-5, 100)\n",
    "\n",
    "# vyresime pomoci numpy\n",
    "x_numpy = np.linalg.solve(A, b)\n",
    "\n",
    "# porovname\n",
    "print(\"Vase reseni: \")\n",
    "print(x)\n",
    "print(\"Numpy reseni: \")\n",
    "print(x_numpy)\n",
    "print(\"Metoda dokonvergovala k reseni v {} iteracich.\".format(k))\n",
    "print(\"Norma rezidua je {}.\".format(r))"
   ]
  },
  {
   "attachments": {},
   "cell_type": "markdown",
   "metadata": {},
   "source": [
    "Pomocí metody `jacobi` ze cvičení a metody `gauss_seidel` vyřešte soustavu definovanou v předchozí buňce s různou přesností `tol` (0.01, 0.0001, 1e-8). Zapište počty iterací do tabulky."
   ]
  },
  {
   "cell_type": "code",
   "execution_count": 12,
   "metadata": {},
   "outputs": [
    {
     "name": "stdout",
     "output_type": "stream",
     "text": [
      "Pocty iteraci Jacobiho metody\n",
      "[9, 17, 34]\n",
      "Pocty iteraci Gaussovy-Seidelovy metody\n",
      "[3, 6, 11]\n"
     ]
    }
   ],
   "source": [
    "x_jac_1, k_jac_1, r_jac_1 = jacobi(A, b, x0, 0.01, 100)\n",
    "x_jac_2, k_jac_2, r_jac_2 = jacobi(A, b, x0, 0.0001, 100)\n",
    "x_jac_3, k_jac_3, r_jac_3 = jacobi(A, b, x0, 1e-8, 100)\n",
    "\n",
    "x_gs_1, k_gs_1, r_gs_1 = gauss_seidel(A, b, x0, 0.01, 100)\n",
    "x_gs_2, k_gs_2, r_gs_2 = gauss_seidel(A, b, x0, 0.0001, 100)\n",
    "x_gs_3, k_gs_3, r_gs_3 = gauss_seidel(A, b, x0, 1e-8, 100)\n",
    "\n",
    "print(\"Pocty iteraci Jacobiho metody\")\n",
    "print([k_jac_1, k_jac_2, k_jac_3])\n",
    "\n",
    "print(\"Pocty iteraci Gaussovy-Seidelovy metody\")\n",
    "print([k_gs_1, k_gs_2, k_gs_3])"
   ]
  },
  {
   "cell_type": "code",
   "execution_count": 13,
   "metadata": {},
   "outputs": [],
   "source": [
    "# Doplnte tabulku s pocty iteraci:\n",
    "# Jacobi:\n",
    "# tol = 0.01,   k = 9\n",
    "# tol = 0.0001, k = 17\n",
    "# tol = 1e-8,   k = 34\n",
    "\n",
    "# Gauss-Seidel:\n",
    "# tol = 0.01,   k = 3\n",
    "# tol = 0.0001, k = 6\n",
    "# tol = 1e-8,   k = 11"
   ]
  },
  {
   "cell_type": "code",
   "execution_count": null,
   "metadata": {},
   "outputs": [],
   "source": []
  }
 ],
 "metadata": {
  "kernelspec": {
   "display_name": "Python 3",
   "language": "python",
   "name": "python3"
  },
  "language_info": {
   "codemirror_mode": {
    "name": "ipython",
    "version": 3
   },
   "file_extension": ".py",
   "mimetype": "text/x-python",
   "name": "python",
   "nbconvert_exporter": "python",
   "pygments_lexer": "ipython3",
   "version": "3.10.12"
  },
  "orig_nbformat": 4
 },
 "nbformat": 4,
 "nbformat_minor": 2
}
