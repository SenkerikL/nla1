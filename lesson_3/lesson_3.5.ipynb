{
 "cells": [
  {
   "cell_type": "markdown",
   "metadata": {},
   "source": [
    "# Cvičení 3.5\n",
    "\n",
    "Tématem tohoto cvičení jsou přímé metody řešení soustav lineárních rovnic. Budeme se zabývat LU rozkladem s řádkovými permutacemi."
   ]
  },
  {
   "cell_type": "markdown",
   "metadata": {},
   "source": [
    "# LU rozklad s částečnou pivotizací\n",
    "\n",
    "Algoritmus LU rozkladu s částečnou pivotizací lze popsat např. následujícím pseudokódem.\n",
    "\n",
    "```\n",
    "U = A, L = I, P = I\n",
    "for k = 1 to m-1 do\n",
    "    Select i >= k maximizing abs(U(i, k))\n",
    "    Swap U(k, k:m) <--> U(i, k:m)\n",
    "    Swap L(k, 1:k-1) <--> L(i, 1:k-1)\n",
    "    Swap P(k, :) <--> P(i, :)\n",
    "    for j = k+1 to m do\n",
    "        L(j, k) = U(j, k)/U(k, k)\n",
    "        U(j, k:m) = U(j, k:m) - L(j, k)U(k, k:m)\n",
    "    end for\n",
    "end for\n",
    "```\n",
    "\n",
    "**Pozor**: značení `k:m` zde znamená sloupce od `k` po `m` *včetně*.\n",
    "\n",
    "Na základě tohoto pseudokódu doplňte chybějící části následují funkce."
   ]
  },
  {
   "cell_type": "code",
   "execution_count": 1,
   "metadata": {},
   "outputs": [],
   "source": [
    "# ÚKOL: Doplňte následující kód\n",
    "\n",
    "import numpy as np\n",
    "\n",
    "def select_i(U, k):\n",
    "    m,n = np.shape(U)\n",
    "    i = k\n",
    "    max = abs(U[i][k])\n",
    "    for j in range(k, m):\n",
    "        max2 = abs(U[i][k])\n",
    "        if max2 > max:\n",
    "            max = max2\n",
    "            i = j\n",
    "    return i\n",
    "\n",
    "def swap(a, b):\n",
    "    return b, a\n",
    "\n",
    "def lu_decomposition_p(A):\n",
    "    m,n = np.shape(A)\n",
    "    U = A.copy()\n",
    "    ones = np.ones(m)\n",
    "    L = np.diag(ones, 0)\n",
    "    P = np.diag(ones, 0)\n",
    "\n",
    "    for k in range(0, m-1):\n",
    "        i = select_i(U, k)\n",
    "        U[k][k:m], U[i][k:m] = swap(U[k][k:m], U[i][k:m])\n",
    "        L[k][1:k], L[i][1:k] = swap(L[k][1:k], L[i][1:k])\n",
    "        P[k][:], P[i][:] = swap(P[k][:], P[i][:])\n",
    "        for j in range(k+1, m):\n",
    "            L[j][k] = U[j][k]/U[k][k]\n",
    "            U[j][k:m+1] = U[j][k:m+1] - L[j][k] * U[k][k:m+1]\n",
    "    return L, U, P\n",
    "\n",
    "    \"\"\"\n",
    "    Provádí LU dekompozici s částečnou pivotizací: PA = LU\n",
    "    Použití: L, U, P = lu_decomposition_p(A)\n",
    "    \"\"\"\n"
   ]
  },
  {
   "cell_type": "code",
   "execution_count": 2,
   "metadata": {},
   "outputs": [],
   "source": [
    "# Vytvoříme náhodnou matici 5x5 a zavoláme vaši funkci\n",
    "A = np.random.rand(5, 5)\n",
    "L, U, P = lu_decomposition_p(A)"
   ]
  },
  {
   "cell_type": "code",
   "execution_count": 3,
   "metadata": {},
   "outputs": [
    {
     "name": "stdout",
     "output_type": "stream",
     "text": [
      "[[0.435 0.919 0.833 0.366 0.825]\n",
      " [0.4   0.822 0.262 0.182 0.951]\n",
      " [0.119 0.045 0.55  0.436 0.259]\n",
      " [0.43  0.954 0.719 0.652 0.625]\n",
      " [0.75  0.703 0.545 0.444 0.735]]\n",
      "[[0.435 0.919 0.833 0.366 0.825]\n",
      " [0.4   0.822 0.262 0.182 0.951]\n",
      " [0.119 0.045 0.55  0.436 0.259]\n",
      " [0.43  0.954 0.719 0.652 0.625]\n",
      " [0.75  0.703 0.545 0.444 0.735]]\n"
     ]
    }
   ],
   "source": [
    "# Otestujeme, že funkce vrací správný rozklad\n",
    "np.set_printoptions(precision=3)\n",
    "LU = L@U\n",
    "print(LU)\n",
    "print(P@A)"
   ]
  },
  {
   "cell_type": "markdown",
   "metadata": {},
   "source": [
    "Známe-li rozklad matice $A$ ve tvaru\n",
    "$$\\mathsf{L}\\mathsf{U} = \\mathsf{P}\\mathsf{A},$$\n",
    "můžeme jej využít k řešení soustavy $\\mathsf{A}\\mathbf{x} = \\mathbf{b}$. Soustavu upravíme na tvar \n",
    "$$\\mathsf{P}\\mathsf{A}\\mathbf{x} = \\mathsf{P}\\mathbf{b}$$\n",
    "a dosadíme\n",
    "$$\\mathsf{L}\\mathsf{U}\\mathbf{x}=\\mathsf{P}\\mathbf{b}.$$\n",
    "\n",
    "V následující části využijte rozklad matice A a vaše metody `fsubst` a `bsubst` pro dopřednou a zpětnou substituci k vyřešení soustavy. "
   ]
  },
  {
   "cell_type": "code",
   "execution_count": 4,
   "metadata": {},
   "outputs": [],
   "source": [
    "# ÚKOL: Zkopírujte z minulého cvičení\n",
    "\n",
    "def fsubst(L, b):\n",
    "    m, n = np.shape(L)       \n",
    "    x = np.zeros((n,1))         \n",
    "    \n",
    "    x[0][0] = b[0][0] / L[0, 0] \n",
    "\n",
    "    for i in range(1, m):\n",
    "        suma = 0\n",
    "        for j in range(0,i):                       \n",
    "            suma += L[i][j]*x[j][0]                        \n",
    "        x[i][0] = (b[i][0] - suma) / L[i][i]                           \n",
    "    return x"
   ]
  },
  {
   "cell_type": "code",
   "execution_count": 5,
   "metadata": {},
   "outputs": [],
   "source": [
    "# ÚKOL: Zkopírujte z minulého cvičení\n",
    "\n",
    "def bsubst(U, b):\n",
    "    m, n = np.shape(U)\n",
    "    x = np.zeros(m)\n",
    "    x[m-1] = b[m-1][0] / U[m-1][n-1]\n",
    "    for i in range(m-2, -1, -1):\n",
    "        suma = 0\n",
    "        for j in range(i, m):\n",
    "            suma += U[i][j]*x[j]\n",
    "        x[i] = (b[i][0] - suma) / U[i][i]\n",
    "    return x"
   ]
  },
  {
   "cell_type": "code",
   "execution_count": 6,
   "metadata": {},
   "outputs": [],
   "source": [
    "# ÚKOL: Vytvořte funkci random_system, která bude mít na vstupu dimenzi m matice A a vrátí náhodnou\n",
    "# matici o rozměrech m x m a náhodný vektor pravé strany b délky m\n",
    "\n",
    "def random_system(m):\n",
    "    A = np.random.rand(m,m)\n",
    "    b = np.random.rand(m,1)\n",
    "    return A, b"
   ]
  },
  {
   "cell_type": "code",
   "execution_count": 7,
   "metadata": {},
   "outputs": [],
   "source": [
    "# Použijeme vaši metodu k vytvoření náhodné soustavy Ax=b o 5 neznámých\n",
    "A, b = random_system(5)"
   ]
  },
  {
   "cell_type": "code",
   "execution_count": 8,
   "metadata": {},
   "outputs": [],
   "source": [
    "# Rozložíme matici A pomocí vaší implementace LU rozkladu s pivotizací\n",
    "L, U, P = lu_decomposition_p(A)"
   ]
  },
  {
   "cell_type": "code",
   "execution_count": 9,
   "metadata": {},
   "outputs": [
    {
     "name": "stdout",
     "output_type": "stream",
     "text": [
      "[ 0.456  0.274  0.384 -0.392  0.719]\n"
     ]
    }
   ],
   "source": [
    "# ÚKOL: Vyřešte pomocí získaného rozkladu a dopředné a zpětné substituce soustavu Ax = b\n",
    "#LUx = Pb\n",
    "\n",
    "y = fsubst(L, P@b)\n",
    "\n",
    "x = bsubst(U, y)\n",
    "print(x)"
   ]
  },
  {
   "cell_type": "code",
   "execution_count": 10,
   "metadata": {},
   "outputs": [
    {
     "name": "stdout",
     "output_type": "stream",
     "text": [
      "[[ 0.456]\n",
      " [ 0.274]\n",
      " [ 0.384]\n",
      " [-0.392]\n",
      " [ 0.719]]\n"
     ]
    }
   ],
   "source": [
    "# ÚKOL: Porovnejte vaše řešení s výsledkem získaným pomocí numpy\n",
    "x = np.linalg.solve(A,b)\n",
    "print(x)"
   ]
  },
  {
   "cell_type": "markdown",
   "metadata": {},
   "source": [
    "## LDLT rozklad\n",
    "\n",
    "LDLT rozklad je vhodný pro symetrické matice. Lze jej popsat následujícím pseudokódem:\n",
    "\n",
    "```\n",
    "n = size(A)\n",
    "L = I, D = 0\n",
    "\n",
    "v(1) = A(1, 1)\n",
    "D(1, 1) = v(1)\n",
    "L(2:n, 1) = A(2:n, 1)/v(1)\n",
    "\n",
    "for j = 2 to n do\n",
    "    for i = 1 to j - 1 do\n",
    "        v(i) = L(j, i)D(i, i)\n",
    "    end\n",
    "\n",
    "    v(j) = A(j, j) - L(j, 1:j-1)v(1, j-1)\n",
    "    D(j, j) = v(j)\n",
    "    L(j+1:n, j) = (A(j+1:n, j) - L(j+1:n, 1:j-1)v(1:j-1)) / v(j)\n",
    "end\n",
    "```\n",
    "\n",
    "V následující části implementujete LDLT rozklad a využijete ho k řešení soustavy se symetrickou maticí."
   ]
  },
  {
   "cell_type": "code",
   "execution_count": 20,
   "metadata": {},
   "outputs": [],
   "source": [
    "# ÚKOL: Doplňte následující kód\n",
    "\n",
    "import numpy as np\n",
    "\n",
    "def my_ldlt(A):\n",
    "    \"\"\"\n",
    "    Vypočítá LDLT rozklad symetrické matice.\n",
    "    Vstup: A - A symetrická matice\n",
    "    Výstup: L, D - Matice dekompozice takové, že platí A = L*D*L.T\n",
    "    \"\"\"\n",
    "    m, n = A.shape\n",
    "\n",
    "    # Zkontrolujme, že je matice čtvercová\n",
    "    if m != n:\n",
    "        raise ValueError('The matrix must be square!')\n",
    "\n",
    "    L = np.eye(m)\n",
    "    D = np.zeros((m, m))\n",
    "\n",
    "    v = np.zeros(m)\n",
    "    # doplnte\n",
    "    v[0] = A[0][0]\n",
    "    D[0][0] = v[0]\n",
    "    L[1:n][0] = A[1:n][0] / v[0]\n",
    "\n",
    "    for j in range(1,n):\n",
    "        for i in range(0,j-1):\n",
    "            v[i] = L[j][i] * D[i][i]\n",
    "        v[j] = A[j][j] - (L[j][0:j-1] * v[j-1])\n",
    "        D[j][j] = v[j]\n",
    "        L[j+1:n][j] = (A[j+1:n][j] - L[j+1:n][0:j-1]) * v[0:j-1] / v[j]\n",
    "\n",
    "    return L, D"
   ]
  },
  {
   "cell_type": "code",
   "execution_count": 21,
   "metadata": {},
   "outputs": [
    {
     "name": "stdout",
     "output_type": "stream",
     "text": [
      "[[1.329 0.191 1.7   1.688 0.419]\n",
      " [0.191 0.945 1.21  0.849 0.23 ]\n",
      " [1.7   1.21  0.078 0.437 0.416]\n",
      " [1.688 0.849 0.437 1.161 1.401]\n",
      " [0.419 0.23  0.416 1.401 1.445]]\n"
     ]
    }
   ],
   "source": [
    "# Vygenerujeme náhodnou symetrickou matici\n",
    "A = np.random.rand(5, 5)\n",
    "A = A + A.transpose()\n",
    "print(A)"
   ]
  },
  {
   "cell_type": "code",
   "execution_count": 22,
   "metadata": {},
   "outputs": [
    {
     "ename": "ValueError",
     "evalue": "setting an array element with a sequence.",
     "output_type": "error",
     "traceback": [
      "\u001b[0;31m---------------------------------------------------------------------------\u001b[0m",
      "\u001b[0;31mTypeError\u001b[0m                                 Traceback (most recent call last)",
      "\u001b[0;31mTypeError\u001b[0m: only size-1 arrays can be converted to Python scalars",
      "\nThe above exception was the direct cause of the following exception:\n",
      "\u001b[0;31mValueError\u001b[0m                                Traceback (most recent call last)",
      "\u001b[0;32m/tmp/ipykernel_643/186318362.py\u001b[0m in \u001b[0;36m<module>\u001b[0;34m\u001b[0m\n\u001b[1;32m      1\u001b[0m \u001b[0;31m# Otestujeme, že váš kód vrací správný výsledek\u001b[0m\u001b[0;34m\u001b[0m\u001b[0;34m\u001b[0m\u001b[0m\n\u001b[0;32m----> 2\u001b[0;31m \u001b[0mL\u001b[0m\u001b[0;34m,\u001b[0m \u001b[0mD\u001b[0m \u001b[0;34m=\u001b[0m \u001b[0mmy_ldlt\u001b[0m\u001b[0;34m(\u001b[0m\u001b[0mA\u001b[0m\u001b[0;34m)\u001b[0m\u001b[0;34m\u001b[0m\u001b[0;34m\u001b[0m\u001b[0m\n\u001b[0m\u001b[1;32m      3\u001b[0m \u001b[0mAA\u001b[0m \u001b[0;34m=\u001b[0m \u001b[0mL\u001b[0m\u001b[0;34m@\u001b[0m\u001b[0mD\u001b[0m\u001b[0;34m@\u001b[0m\u001b[0mL\u001b[0m\u001b[0;34m.\u001b[0m\u001b[0mtranspose\u001b[0m\u001b[0;34m(\u001b[0m\u001b[0;34m)\u001b[0m\u001b[0;34m\u001b[0m\u001b[0;34m\u001b[0m\u001b[0m\n\u001b[1;32m      4\u001b[0m \u001b[0mprint\u001b[0m\u001b[0;34m(\u001b[0m\u001b[0mAA\u001b[0m\u001b[0;34m-\u001b[0m\u001b[0mA\u001b[0m\u001b[0;34m)\u001b[0m\u001b[0;34m\u001b[0m\u001b[0;34m\u001b[0m\u001b[0m\n",
      "\u001b[0;32m/tmp/ipykernel_643/1626195036.py\u001b[0m in \u001b[0;36mmy_ldlt\u001b[0;34m(A)\u001b[0m\n\u001b[1;32m     27\u001b[0m         \u001b[0;32mfor\u001b[0m \u001b[0mi\u001b[0m \u001b[0;32min\u001b[0m \u001b[0mrange\u001b[0m\u001b[0;34m(\u001b[0m\u001b[0;36m0\u001b[0m\u001b[0;34m,\u001b[0m\u001b[0mj\u001b[0m\u001b[0;34m-\u001b[0m\u001b[0;36m1\u001b[0m\u001b[0;34m)\u001b[0m\u001b[0;34m:\u001b[0m\u001b[0;34m\u001b[0m\u001b[0;34m\u001b[0m\u001b[0m\n\u001b[1;32m     28\u001b[0m             \u001b[0mv\u001b[0m\u001b[0;34m[\u001b[0m\u001b[0mi\u001b[0m\u001b[0;34m]\u001b[0m \u001b[0;34m=\u001b[0m \u001b[0mL\u001b[0m\u001b[0;34m[\u001b[0m\u001b[0mj\u001b[0m\u001b[0;34m]\u001b[0m\u001b[0;34m[\u001b[0m\u001b[0mi\u001b[0m\u001b[0;34m]\u001b[0m \u001b[0;34m*\u001b[0m \u001b[0mD\u001b[0m\u001b[0;34m[\u001b[0m\u001b[0mi\u001b[0m\u001b[0;34m]\u001b[0m\u001b[0;34m[\u001b[0m\u001b[0mi\u001b[0m\u001b[0;34m]\u001b[0m\u001b[0;34m\u001b[0m\u001b[0;34m\u001b[0m\u001b[0m\n\u001b[0;32m---> 29\u001b[0;31m         \u001b[0mv\u001b[0m\u001b[0;34m[\u001b[0m\u001b[0mj\u001b[0m\u001b[0;34m]\u001b[0m \u001b[0;34m=\u001b[0m \u001b[0mA\u001b[0m\u001b[0;34m[\u001b[0m\u001b[0mj\u001b[0m\u001b[0;34m]\u001b[0m\u001b[0;34m[\u001b[0m\u001b[0mj\u001b[0m\u001b[0;34m]\u001b[0m \u001b[0;34m-\u001b[0m \u001b[0;34m(\u001b[0m\u001b[0mL\u001b[0m\u001b[0;34m[\u001b[0m\u001b[0mj\u001b[0m\u001b[0;34m]\u001b[0m\u001b[0;34m[\u001b[0m\u001b[0;36m0\u001b[0m\u001b[0;34m:\u001b[0m\u001b[0mj\u001b[0m\u001b[0;34m-\u001b[0m\u001b[0;36m1\u001b[0m\u001b[0;34m]\u001b[0m \u001b[0;34m*\u001b[0m \u001b[0mv\u001b[0m\u001b[0;34m[\u001b[0m\u001b[0mj\u001b[0m\u001b[0;34m-\u001b[0m\u001b[0;36m1\u001b[0m\u001b[0;34m]\u001b[0m\u001b[0;34m)\u001b[0m\u001b[0;34m\u001b[0m\u001b[0;34m\u001b[0m\u001b[0m\n\u001b[0m\u001b[1;32m     30\u001b[0m         \u001b[0mD\u001b[0m\u001b[0;34m[\u001b[0m\u001b[0mj\u001b[0m\u001b[0;34m]\u001b[0m\u001b[0;34m[\u001b[0m\u001b[0mj\u001b[0m\u001b[0;34m]\u001b[0m \u001b[0;34m=\u001b[0m \u001b[0mv\u001b[0m\u001b[0;34m[\u001b[0m\u001b[0mj\u001b[0m\u001b[0;34m]\u001b[0m\u001b[0;34m\u001b[0m\u001b[0;34m\u001b[0m\u001b[0m\n\u001b[1;32m     31\u001b[0m         \u001b[0mL\u001b[0m\u001b[0;34m[\u001b[0m\u001b[0mj\u001b[0m\u001b[0;34m+\u001b[0m\u001b[0;36m1\u001b[0m\u001b[0;34m:\u001b[0m\u001b[0mn\u001b[0m\u001b[0;34m]\u001b[0m\u001b[0;34m[\u001b[0m\u001b[0mj\u001b[0m\u001b[0;34m]\u001b[0m \u001b[0;34m=\u001b[0m \u001b[0;34m(\u001b[0m\u001b[0mA\u001b[0m\u001b[0;34m[\u001b[0m\u001b[0mj\u001b[0m\u001b[0;34m+\u001b[0m\u001b[0;36m1\u001b[0m\u001b[0;34m:\u001b[0m\u001b[0mn\u001b[0m\u001b[0;34m]\u001b[0m\u001b[0;34m[\u001b[0m\u001b[0mj\u001b[0m\u001b[0;34m]\u001b[0m \u001b[0;34m-\u001b[0m \u001b[0mL\u001b[0m\u001b[0;34m[\u001b[0m\u001b[0mj\u001b[0m\u001b[0;34m+\u001b[0m\u001b[0;36m1\u001b[0m\u001b[0;34m:\u001b[0m\u001b[0mn\u001b[0m\u001b[0;34m]\u001b[0m\u001b[0;34m[\u001b[0m\u001b[0;36m0\u001b[0m\u001b[0;34m:\u001b[0m\u001b[0mj\u001b[0m\u001b[0;34m-\u001b[0m\u001b[0;36m1\u001b[0m\u001b[0;34m]\u001b[0m\u001b[0;34m)\u001b[0m \u001b[0;34m*\u001b[0m \u001b[0mv\u001b[0m\u001b[0;34m[\u001b[0m\u001b[0;36m0\u001b[0m\u001b[0;34m:\u001b[0m\u001b[0mj\u001b[0m\u001b[0;34m-\u001b[0m\u001b[0;36m1\u001b[0m\u001b[0;34m]\u001b[0m \u001b[0;34m/\u001b[0m \u001b[0mv\u001b[0m\u001b[0;34m[\u001b[0m\u001b[0mj\u001b[0m\u001b[0;34m]\u001b[0m\u001b[0;34m\u001b[0m\u001b[0;34m\u001b[0m\u001b[0m\n",
      "\u001b[0;31mValueError\u001b[0m: setting an array element with a sequence."
     ]
    }
   ],
   "source": [
    "# Otestujeme, že váš kód vrací správný výsledek\n",
    "L, D = my_ldlt(A)\n",
    "AA = L@D@L.transpose()\n",
    "print(AA-A)"
   ]
  },
  {
   "cell_type": "markdown",
   "metadata": {},
   "source": [
    "Známe-li rozklad symetrické matice $\\mathsf{A} = \\mathsf{L}\\mathsf{D}\\mathsf{L}^T$, můžeme jej využít k řešení soustavy $\\mathsf{A}\\mathbf{x} = \\mathbf{b}$, kterou převedeme na \n",
    "$$\\mathsf{L}\\mathsf{D}\\mathsf{L}^T\\mathbf{x} = \\mathbf{b}$$\n",
    "a vyřešíme vhodnými substitucemi s využitím dopředné a zpětné substituce.\n",
    "\n",
    "Rozmyslete si, jak takové substituce budou vypadat a v následující části vyřešte náhodnou soustavu."
   ]
  },
  {
   "cell_type": "code",
   "execution_count": null,
   "metadata": {},
   "outputs": [],
   "source": [
    "# ÚKOL: Doplňte následující buňku a vyřešte soustavu rovnic Ax = b se symetrickou náhodnou maticí A a\n",
    "# náhodným vektorem pravé strany b. Využijte vaše metody fsubst a bsubst\n",
    "b = np.random.rand(5)\n",
    "\n",
    "# doplňte řešení soustavy Ax = b pomoci LDLT"
   ]
  },
  {
   "cell_type": "code",
   "execution_count": null,
   "metadata": {},
   "outputs": [],
   "source": [
    "# Porovnáme vaše řešení a řešen pomocí numpy\n",
    "print(vase_x)\n",
    "print(np.linalg.solve(A, b))"
   ]
  }
 ],
 "metadata": {
  "kernelspec": {
   "display_name": ".env",
   "language": "python",
   "name": "python3"
  },
  "language_info": {
   "codemirror_mode": {
    "name": "ipython",
    "version": 3
   },
   "file_extension": ".py",
   "mimetype": "text/x-python",
   "name": "python",
   "nbconvert_exporter": "python",
   "pygments_lexer": "ipython3",
   "version": "3.10.12"
  }
 },
 "nbformat": 4,
 "nbformat_minor": 2
}
