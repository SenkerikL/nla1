{
 "cells": [
  {
   "attachments": {},
   "cell_type": "markdown",
   "metadata": {},
   "source": [
    "# Cvičení 3\n",
    "\n",
    "Tématem tohoto cvičení jsou přímé metody řešení soustav lineárních rovnic. Budeme se zabývat dopřednou a zpětnou substitucí a LU rozkladem."
   ]
  },
  {
   "attachments": {},
   "cell_type": "markdown",
   "metadata": {},
   "source": [
    "## Dopředná a zpětná substituce\n",
    "\n",
    "Základní princip přímých metod řešení soustav lineárních rovnic je převod matice soustavy na součin trojúhelníkových matic, např. \n",
    "$$\\mathsf{A} = \\mathsf{L}\\mathsf{U}.$$\n",
    "Soustavu $\\mathsf{A}\\mathbf{x} = \\mathbf{b}$ tak převedeme na tvar\n",
    "$$\\mathsf{L}\\mathsf{U}\\mathbf{x} = \\mathbf{b}$$\n",
    "a vyřešíme ji ve dvou krocích \n",
    "1) $\\mathsf{L}\\mathbf{y}=\\mathbf{b}$\n",
    "2) $\\mathsf{U}\\mathbf{x}=\\mathbf{y}$\n",
    "pomocí dopředné a zpětné substituce.\n",
    "\n",
    "V této části cvičení tedy nejdříve implementujeme funkce pro dopřednou a zpětnou substituci, které později využijeme k řešení soustav.\n",
    "\n",
    "### Testovací matice\n",
    "\n",
    "Nejprve vygenerujte testovací matice, pomocí kterých později zjistíte, zda vaše funkce pracují správně. Budete k tomu potřebovat\n",
    "- funkci z knihovny NumPy, pomocí které vygenerujete náhodnou matici o daném rozměru (znáte z prvního cvičení),\n",
    "- funkce `triu`, `tril` z knihovny NumPy (zjistěte v dokumentaci nebo pomocí Googlu, k čemu slouží a jak se používají)"
   ]
  },
  {
   "cell_type": "code",
   "execution_count": 1,
   "metadata": {},
   "outputs": [],
   "source": [
    "# ÚKOL: importujte potřebnou knihovnu NumPy pod zkratkou np\n",
    "import numpy as np"
   ]
  },
  {
   "cell_type": "code",
   "execution_count": 2,
   "metadata": {},
   "outputs": [
    {
     "name": "stdout",
     "output_type": "stream",
     "text": [
      "[[0.759 0.65  0.891 0.847]\n",
      " [0.945 0.826 0.644 0.025]\n",
      " [0.644 0.292 0.218 0.242]\n",
      " [0.229 0.802 0.091 0.011]]\n"
     ]
    }
   ],
   "source": [
    "# ÚKOL: vygenerujte matici A náhodných čísel o rozměrech 4x4\n",
    "A = np.random.rand(4,4)\n",
    "\n",
    "np.set_printoptions(precision=3) # pro lepší přehlednost\n",
    "print(A)"
   ]
  },
  {
   "cell_type": "code",
   "execution_count": 3,
   "metadata": {},
   "outputs": [
    {
     "name": "stdout",
     "output_type": "stream",
     "text": [
      "[[0.759 0.65  0.891 0.847]\n",
      " [0.    0.826 0.644 0.025]\n",
      " [0.    0.    0.218 0.242]\n",
      " [0.    0.    0.    0.011]]\n",
      "---------------------\n",
      "[[0.759 0.    0.    0.   ]\n",
      " [0.945 0.826 0.    0.   ]\n",
      " [0.644 0.292 0.218 0.   ]\n",
      " [0.229 0.802 0.091 0.011]]\n"
     ]
    }
   ],
   "source": [
    "# ÚKOL: pomocí vhodných funkcí z knihovny NumPy extrahujte z matice A její horní a dolní trojúhelníkovou část.\n",
    "U = np.triu(A,0)\n",
    "print(U)\n",
    "print(\"---------------------\")\n",
    "\n",
    "L = np.tril(A,0)\n",
    "print(L)\n",
    "\n",
    "# Ověřte funkčnost porovnáním s příslušnou částí matice A"
   ]
  },
  {
   "cell_type": "code",
   "execution_count": 4,
   "metadata": {},
   "outputs": [
    {
     "name": "stdout",
     "output_type": "stream",
     "text": [
      "[[0.122]\n",
      " [0.346]\n",
      " [0.572]\n",
      " [0.042]]\n"
     ]
    }
   ],
   "source": [
    "# ÚKOL: Vytvořte náhodný vektor b délky 4\n",
    "b = np.random.rand(4,1)\n",
    "\n",
    "print(b)"
   ]
  },
  {
   "attachments": {},
   "cell_type": "markdown",
   "metadata": {},
   "source": [
    "### Dopředná substituce\n",
    "\n",
    "Soustavu s dolní trojúhelníkovou maticí $\\mathsf{L}\\mathbf{x}=\\mathbf{b}$ můžeme efektivně řešit pomocí algoritmu dopředné substituce. \n",
    "\n",
    "1) Určíme první prvek vektoru řešení\n",
    "$$x_1 = b_1 / L_{1, 1}$$\n",
    "\n",
    "2) Zbývající prvky určíme jako \n",
    "$$\\forall i \\in \\{2, 3, \\ldots, m\\}: x_i = (b_i - \\sum_{j=1}^{i-1}L_{i, j} x_j) / L_{i, i}$$\n",
    "\n",
    "Na základě těchto předpisů doplňte chybějící části následujícího kódu. Nezapomeňte ale, že v Pythonu indexujeme od nuly."
   ]
  },
  {
   "cell_type": "code",
   "execution_count": 5,
   "metadata": {},
   "outputs": [],
   "source": [
    "# ÚKOL: Doplňte následující kód\n",
    "\n",
    "def fsubst(L, b):\n",
    "    m, n = np.shape(L)             # pomocí vhodné funkce numpy uložte do proměnných m, n počet řádků a sloupců L\n",
    "    x = np.zeros((n,1))                # vytvořte vektor samých nul délky n\n",
    "    \n",
    "    x[0][0] = b[0][0] / L[0, 0]   # první prvek řešení\n",
    "\n",
    "    for i in range(1, m):\n",
    "        # nejdříve pomocí vnořeného for cyklu určíme hodnotu sumy z kroku 2:\n",
    "        suma = 0\n",
    "        for j in range(0,i):                       # doplňte vhodně meze smyčky\n",
    "            suma += L[i][j]*x[j][0]                        # doplňte\n",
    "        \n",
    "        # odečteme sumu od prvku pravé strany a vydělíme diagonálním prvkem\n",
    "        x[i][0] = (b[i][0] - suma) / L[i][i]                            # doplňte\n",
    "\n",
    "    return x\n"
   ]
  },
  {
   "cell_type": "code",
   "execution_count": 6,
   "metadata": {},
   "outputs": [
    {
     "name": "stdout",
     "output_type": "stream",
     "text": [
      "[[  0.161]\n",
      " [  0.234]\n",
      " [  1.836]\n",
      " [-32.153]]\n"
     ]
    }
   ],
   "source": [
    "# Otestujte pomocí L, b\n",
    "x = fsubst(L, b)\n",
    "print(x)"
   ]
  },
  {
   "cell_type": "code",
   "execution_count": 7,
   "metadata": {},
   "outputs": [
    {
     "name": "stdout",
     "output_type": "stream",
     "text": [
      "[[  0.161]\n",
      " [  0.234]\n",
      " [  1.836]\n",
      " [-32.153]]\n"
     ]
    }
   ],
   "source": [
    "# ÚKOL: určete řešení pomocí funkce solve z numpy a porovnejte s vašim řešením\n",
    "x_numpy = np.linalg.solve(L,b)\n",
    "print(x_numpy)"
   ]
  },
  {
   "attachments": {},
   "cell_type": "markdown",
   "metadata": {},
   "source": [
    "### Zpětná substituce\n",
    "\n",
    "K vyřešení soustavy s horní trojúhelníkovou maticí $\\mathsf{U}\\mathbf{x} = \\mathbf{b}$ potřebujeme implementovat také algoritmus zpětné substituce. Ten je podobný dopředné substituci, postupuje však od posledního řádku:\n",
    "\n",
    "1) Určíme poslední prvek vektoru řešení \n",
    "$$x_m = b_m / U_{m,m}$$\n",
    "2) Určíme zbývající prvky\n",
    "$$\\forall i \\in \\{m-1, m-2, \\ldots, 1\\}: x_i = (b_i - \\sum_{j=i+1}^{m}U_{i, j}x_j) / U_{i, i}$$\n",
    "\n",
    "Implementujte v následující buňce vaši verzi zpětné substituce."
   ]
  },
  {
   "attachments": {},
   "cell_type": "markdown",
   "metadata": {},
   "source": [
    "**Poznámka** Při implementaci se vám bude hodit vědět, že funkce range umožňuje iterovat i \"pozpátku\". Vyzkoušejte si v následující buňce vytisknout přes jaká *i* iterují tyto `for` cykly:\n",
    "- `for i in range(6, 0, -1)`\n",
    "- `for i in range(6, -1, -1)`\n",
    "- `for i in range(6, 0, -2)`\n",
    "- `for i in range(0, -6, -1)`"
   ]
  },
  {
   "cell_type": "code",
   "execution_count": 8,
   "metadata": {},
   "outputs": [
    {
     "name": "stdout",
     "output_type": "stream",
     "text": [
      "0\n",
      "-1\n",
      "-2\n",
      "-3\n",
      "-4\n",
      "-5\n"
     ]
    }
   ],
   "source": [
    "# ÚKOL: Vytiskněte proměnnou i z příkladů v předchozí buňce.\n",
    "for i in range(0,-6,-1):\n",
    "    print(i)"
   ]
  },
  {
   "cell_type": "code",
   "execution_count": 9,
   "metadata": {},
   "outputs": [],
   "source": [
    "# ÚKOL: Implementujte algoritmus zpětné substituce.\n",
    "\n",
    "def b_subst(U, b):\n",
    "    m, n = np.shape(U)\n",
    "    x = np.zeros(m)\n",
    "\n",
    "    x[m-1] = b[m-1][0] / U[m-1][n-1]\n",
    "\n",
    "    for i in range(m-2, -1, -1):\n",
    "        suma = 0\n",
    "        for j in range(i, m):\n",
    "            suma += U[i][j]*x[j]\n",
    "    \n",
    "        x[i] = (b[i][0] - suma) / U[i][i]\n",
    "\n",
    "    return x\n",
    "    \n",
    "    \n"
   ]
  },
  {
   "cell_type": "code",
   "execution_count": 10,
   "metadata": {},
   "outputs": [
    {
     "name": "stdout",
     "output_type": "stream",
     "text": [
      "[-3.585  1.627 -1.702  3.894]\n",
      "[[-3.585]\n",
      " [ 1.627]\n",
      " [-1.702]\n",
      " [ 3.894]]\n"
     ]
    }
   ],
   "source": [
    "# ÚKOL: ověřte pomocí numpy, že vaše funkce vrací správný výsledek\n",
    "\n",
    "x2 = b_subst(U, b)\n",
    "x2_numpy = np.linalg.solve(U,b) # doplňte\n",
    "print(x2)\n",
    "print(x2_numpy)"
   ]
  },
  {
   "attachments": {},
   "cell_type": "markdown",
   "metadata": {},
   "source": [
    "# Domácí úkol č. 1\n",
    "\n",
    "Algoritmus LU rozkladu lze popsat např. následujícím pseudokódem.\n",
    "\n",
    "```\n",
    "U = A, L = I\n",
    "for k = 1 to m-1 do\n",
    "    for j = k+1 to m do\n",
    "        L(j, k) = U(j, k)/U(k, k)\n",
    "        U(j, k:m) = U(j, k:m) - L(j, k)U(k, k:m)\n",
    "    end for\n",
    "end for\n",
    "```\n",
    "\n",
    "**Pozor**: značení `k:m` zde znamená sloupce od `k` po `m` *včetně*.\n",
    "\n",
    "Vašim úkolem je:\n",
    "1) Na základě uvedeného pseudokódu implementovat LU rozklad bez pivotizace do metody `L, U = my_lu(A)`. Metoda tedy bude mít na vstupu čtvercovou matici A a na výstupu dolní trojúhelníkovou matici L a horní trojúhelníkovou matici U takové, že `A = LU`.\n",
    "2) Sestavit náhodnou matici A o rozměrech 5x5 a pomocí ní ověřit, že vaše metoda funguje správně (`A - L @ U` by mělo vrátit matici s nulovými či velmi malými prvky).\n",
    "3) Sestavit náhodný vektor pravé strany `b` o délce 5. \n",
    "4) Pomocí vaší metody `my_lu` a na cvičení implementovaných metod `f_subst` a `b_subst` vyřešit soustavu `Ax = b`.\n",
    "5) Ověřit pomocí metody `np.linalg.solve`, že jste nalezli správné řešení. \n",
    "\n",
    "**Odevzdání**: Celý tento notebook s řešením zašlete na e-mail vyučujícího do 23. 3. 16:00. Jako předmět e-mailu uveďte \"NLA1 DU1\"."
   ]
  },
  {
   "cell_type": "code",
   "execution_count": 11,
   "metadata": {},
   "outputs": [],
   "source": [
    "# Doplňte podle bodu 1)\n",
    "\n",
    "def my_lu(A):\n",
    "    m, n = np.shape(A)\n",
    "    U = A.copy()\n",
    "    ones = np.ones(m)\n",
    "    L = np.diag(ones, 0)\n",
    "\n",
    "    for k in range(0, m-1):\n",
    "        for j in range(k+1, m):\n",
    "            L[j][k] = U[j][k] / U[k][k]\n",
    "            U[j][k:m+1] = U[j][k:m+1] - L[j][k] * U[k][k:m+1]\n",
    "    return L, U\n",
    "            \n",
    "        \n"
   ]
  },
  {
   "cell_type": "code",
   "execution_count": 12,
   "metadata": {},
   "outputs": [
    {
     "name": "stdout",
     "output_type": "stream",
     "text": [
      "[[0.04  0.786 0.045 0.2   0.744]\n",
      " [0.516 0.035 0.187 0.181 0.11 ]\n",
      " [0.985 0.982 0.237 0.412 0.32 ]\n",
      " [0.5   0.276 0.976 0.203 0.062]\n",
      " [0.549 0.763 0.831 0.935 0.652]]\n",
      "[[ 0.000e+00  0.000e+00  0.000e+00  0.000e+00  0.000e+00]\n",
      " [ 0.000e+00  0.000e+00  0.000e+00 -1.110e-16 -2.220e-16]\n",
      " [ 0.000e+00 -1.110e-15  0.000e+00  1.110e-16  1.110e-16]\n",
      " [ 5.551e-16 -2.776e-16  1.110e-16  1.110e-16 -7.772e-16]\n",
      " [ 4.441e-16  2.220e-16 -1.110e-16 -2.220e-16 -1.665e-15]]\n"
     ]
    }
   ],
   "source": [
    "# Doplňte podle bodu 2)\n",
    "A = np.random.rand(5,5)\n",
    "L, U = my_lu(A)\n",
    "print(A)\n",
    "print(A-L@U)\n"
   ]
  },
  {
   "cell_type": "code",
   "execution_count": 13,
   "metadata": {},
   "outputs": [
    {
     "name": "stdout",
     "output_type": "stream",
     "text": [
      "[[0.913]\n",
      " [0.052]\n",
      " [0.15 ]\n",
      " [0.267]\n",
      " [0.454]]\n"
     ]
    }
   ],
   "source": [
    "# Doplňte podle bodu 3)\n",
    "b = np.random.rand(5,1)\n",
    "print(b)"
   ]
  },
  {
   "cell_type": "code",
   "execution_count": 14,
   "metadata": {},
   "outputs": [
    {
     "name": "stdout",
     "output_type": "stream",
     "text": [
      "[-0.057 -0.008  0.383 -0.814  1.433]\n"
     ]
    }
   ],
   "source": [
    "# Doplňte podle bodu 4)\n",
    "y = fsubst(L,b)\n",
    "y = y.reshape(5,1)\n",
    "x = b_subst(U,y)\n",
    "print(x)"
   ]
  },
  {
   "cell_type": "code",
   "execution_count": 15,
   "metadata": {},
   "outputs": [
    {
     "name": "stdout",
     "output_type": "stream",
     "text": [
      "[[-0.057]\n",
      " [-0.008]\n",
      " [ 0.383]\n",
      " [-0.814]\n",
      " [ 1.433]]\n"
     ]
    }
   ],
   "source": [
    "# Doplňte podle bodu 5)\n",
    "print(np.linalg.solve(A,b))"
   ]
  }
 ],
 "metadata": {
  "kernelspec": {
   "display_name": "Python 3",
   "language": "python",
   "name": "python3"
  },
  "language_info": {
   "codemirror_mode": {
    "name": "ipython",
    "version": 3
   },
   "file_extension": ".py",
   "mimetype": "text/x-python",
   "name": "python",
   "nbconvert_exporter": "python",
   "pygments_lexer": "ipython3",
   "version": "3.10.12"
  },
  "orig_nbformat": 4
 },
 "nbformat": 4,
 "nbformat_minor": 2
}
