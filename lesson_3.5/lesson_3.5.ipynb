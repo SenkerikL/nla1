{
 "cells": [
  {
   "cell_type": "markdown",
   "metadata": {},
   "source": [
    "# Cvičení 3.5\n",
    "\n",
    "Tématem tohoto cvičení jsou přímé metody řešení soustav lineárních rovnic. Budeme se zabývat LU rozkladem s řádkovými permutacemi."
   ]
  },
  {
   "cell_type": "markdown",
   "metadata": {},
   "source": [
    "# LU rozklad s částečnou pivotizací\n",
    "\n",
    "Algoritmus LU rozkladu s částečnou pivotizací lze popsat např. následujícím pseudokódem.\n",
    "\n",
    "```\n",
    "U = A, L = I, P = I\n",
    "for k = 1 to m-1 do\n",
    "    Select i >= k maximizing abs(U(i, k))\n",
    "    Swap U(k, k:m) <--> U(i, k:m)\n",
    "    Swap L(k, 1:k-1) <--> L(i, 1:k-1)\n",
    "    Swap P(k, :) <--> P(i, :)\n",
    "    for j = k+1 to m do\n",
    "        L(j, k) = U(j, k)/U(k, k)\n",
    "        U(j, k:m) = U(j, k:m) - L(j, k)U(k, k:m)\n",
    "    end for\n",
    "end for\n",
    "```\n",
    "\n",
    "**Pozor**: značení `k:m` zde znamená sloupce od `k` po `m` *včetně*.\n",
    "\n",
    "Na základě tohoto pseudokódu doplňte chybějící části následují funkce."
   ]
  },
  {
   "cell_type": "code",
   "execution_count": 8,
   "metadata": {},
   "outputs": [],
   "source": [
    "# ÚKOL: Doplňte následující kód\n",
    "\n",
    "import numpy as np\n",
    "\n",
    "def lu_decomposition_p(A):\n",
    "    \"\"\"\n",
    "    Provádí LU dekompozici s částečnou pivotizací: PA = LU\n",
    "    Použití: L, U, P = lu_decomposition_p(A)\n",
    "    \"\"\"\n"
   ]
  },
  {
   "cell_type": "code",
   "execution_count": 73,
   "metadata": {},
   "outputs": [],
   "source": [
    "# Vytvoříme náhodnou matici 5x5 a zavoláme vaši funkci\n",
    "A = np.random.rand(5, 5)\n",
    "L, U, P = lu_decomposition_p(A)"
   ]
  },
  {
   "cell_type": "code",
   "execution_count": null,
   "metadata": {},
   "outputs": [],
   "source": [
    "# Otestujeme, že funkce vrací správný rozklad\n",
    "np.set_printoptions(precision=3)\n",
    "LU = L@U\n",
    "print(LU)\n",
    "print(P@A)"
   ]
  },
  {
   "cell_type": "markdown",
   "metadata": {},
   "source": [
    "Známe-li rozklad matice $A$ ve tvaru\n",
    "$$\\mathsf{L}\\mathsf{U} = \\mathsf{P}\\mathsf{A},$$\n",
    "můžeme jej využít k řešení soustavy $\\mathsf{A}\\mathbf{x} = \\mathbf{b}$. Soustavu upravíme na tvar \n",
    "$$\\mathsf{P}\\mathsf{A}\\mathbf{x} = \\mathsf{P}\\mathbf{b}$$\n",
    "a dosadíme\n",
    "$$\\mathsf{L}\\mathsf{U}\\mathbf{x}=\\mathsf{P}\\mathbf{b}.$$\n",
    "\n",
    "V následující části využijte rozklad matice A a vaše metody `fsubst` a `bsubst` pro dopřednou a zpětnou substituci k vyřešení soustavy. "
   ]
  },
  {
   "cell_type": "code",
   "execution_count": 23,
   "metadata": {},
   "outputs": [],
   "source": [
    "# ÚKOL: Zkopírujte z minulého cvičení\n",
    "\n",
    "def fsubst(L, b):\n"
   ]
  },
  {
   "cell_type": "code",
   "execution_count": 24,
   "metadata": {},
   "outputs": [],
   "source": [
    "# ÚKOL: Zkopírujte z minulého cvičení\n",
    "\n",
    "def bsubst(U, b):\n"
   ]
  },
  {
   "cell_type": "code",
   "execution_count": 25,
   "metadata": {},
   "outputs": [],
   "source": [
    "# ÚKOL: Vytvořte funkci random_system, která bude mít na vstupu dimenzi m matice A a vrátí náhodnou\n",
    "# matici o rozměrech m x m a náhodný vektor pravé strany b délky m\n",
    "\n",
    "def random_system(m):\n"
   ]
  },
  {
   "cell_type": "code",
   "execution_count": 26,
   "metadata": {},
   "outputs": [],
   "source": [
    "# Použijeme vaši metodu k vytvoření náhodné soustavy Ax=b o 5 neznámých\n",
    "A, b = random_system(5)"
   ]
  },
  {
   "cell_type": "code",
   "execution_count": 27,
   "metadata": {},
   "outputs": [],
   "source": [
    "# Rozložíme matici A pomocí vaší implementace LU rozkladu s pivotizací\n",
    "L, U, P = lu_decomposition_p(A)"
   ]
  },
  {
   "cell_type": "code",
   "execution_count": 28,
   "metadata": {},
   "outputs": [],
   "source": [
    "# ÚKOL: Vyřešte pomocí získaného rozkladu a dopředné a zpětné substituce soustavu Ax = b\n"
   ]
  },
  {
   "cell_type": "code",
   "execution_count": null,
   "metadata": {},
   "outputs": [],
   "source": [
    "# ÚKOL: Porovnejte vaše řešení s výsledkem získaným pomocí numpy\n"
   ]
  },
  {
   "cell_type": "markdown",
   "metadata": {},
   "source": [
    "## LDLT rozklad\n",
    "\n",
    "LDLT rozklad je vhodný pro symetrické matice. Lze jej popsat následujícím pseudokódem:\n",
    "\n",
    "```\n",
    "n = size(A)\n",
    "L = I, D = 0\n",
    "\n",
    "v(1) = A(1, 1)\n",
    "D(1, 1) = v(1)\n",
    "L(2:n, 1) = A(2:n, 1)/v(1)\n",
    "\n",
    "for j = 2 to n do\n",
    "    for i = 1 to j - 1 do\n",
    "        v(i) = L(j, i)D(i, i)\n",
    "    end\n",
    "\n",
    "    v(j) = A(j, j) - L(j, 1:j-1)v(1, j-1)\n",
    "    D(j, j) = v(j)\n",
    "    L(j+1:n, j) = (A(j+1:n, j) - L(j+1:n, 1:j-1)v(1:j-1)) / v(j)\n",
    "end\n",
    "```\n",
    "\n",
    "V následující části implementujete LDLT rozklad a využijete ho k řešení soustavy se symetrickou maticí."
   ]
  },
  {
   "cell_type": "code",
   "execution_count": null,
   "metadata": {},
   "outputs": [],
   "source": [
    "# ÚKOL: Doplňte následující kód\n",
    "\n",
    "import numpy as np\n",
    "\n",
    "def my_ldlt(A):\n",
    "    \"\"\"\n",
    "    Vypočítá LDLT rozklad symetrické matice.\n",
    "    Vstup: A - A symetrická matice\n",
    "    Výstup: L, D - Matice dekompozice takové, že platí A = L*D*L.T\n",
    "    \"\"\"\n",
    "    m, n = A.shape\n",
    "\n",
    "    # Zkontrolujme, že je matice čtvercová\n",
    "    if m != n:\n",
    "        raise ValueError('The matrix must be square!')\n",
    "\n",
    "    L = np.eye(m)\n",
    "    D = np.zeros((m, m))\n",
    "\n",
    "    v = np.zeros(m)\n",
    "\n",
    "    # doplnte\n",
    "\n",
    "\n",
    "    return L, D"
   ]
  },
  {
   "cell_type": "code",
   "execution_count": null,
   "metadata": {},
   "outputs": [],
   "source": [
    "# Vygenerujeme náhodnou symetrickou matici\n",
    "A = np.random.rand(5, 5)\n",
    "A = A + A.transpose()\n",
    "print(A)"
   ]
  },
  {
   "cell_type": "code",
   "execution_count": null,
   "metadata": {},
   "outputs": [],
   "source": [
    "# Otestujeme, že váš kód vrací správný výsledek\n",
    "L, D = my_ldlt(A)\n",
    "AA = L@D@L.transpose()\n",
    "print(AA-A)"
   ]
  },
  {
   "cell_type": "markdown",
   "metadata": {},
   "source": [
    "Známe-li rozklad symetrické matice $\\mathsf{A} = \\mathsf{L}\\mathsf{D}\\mathsf{L}^T$, můžeme jej využít k řešení soustavy $\\mathsf{A}\\mathbf{x} = \\mathbf{b}$, kterou převedeme na \n",
    "$$\\mathsf{L}\\mathsf{D}\\mathsf{L}^T\\mathbf{x} = \\mathbf{b}$$\n",
    "a vyřešíme vhodnými substitucemi s využitím dopředné a zpětné substituce.\n",
    "\n",
    "Rozmyslete si, jak takové substituce budou vypadat a v následující části vyřešte náhodnou soustavu."
   ]
  },
  {
   "cell_type": "code",
   "execution_count": null,
   "metadata": {},
   "outputs": [],
   "source": [
    "# ÚKOL: Doplňte následující buňku a vyřešte soustavu rovnic Ax = b se symetrickou náhodnou maticí A a\n",
    "# náhodným vektorem pravé strany b. Využijte vaše metody fsubst a bsubst\n",
    "b = np.random.rand(5)\n",
    "\n",
    "# doplňte řešení soustavy Ax = b pomoci LDLT"
   ]
  },
  {
   "cell_type": "code",
   "execution_count": null,
   "metadata": {},
   "outputs": [],
   "source": [
    "# Porovnáme vaše řešení a řešen pomocí numpy\n",
    "print(vase_x)\n",
    "print(np.linalg.solve(A, b))"
   ]
  }
 ],
 "metadata": {
  "kernelspec": {
   "display_name": ".env",
   "language": "python",
   "name": "python3"
  },
  "language_info": {
   "codemirror_mode": {
    "name": "ipython",
    "version": 3
   },
   "file_extension": ".py",
   "mimetype": "text/x-python",
   "name": "python",
   "nbconvert_exporter": "python",
   "pygments_lexer": "ipython3",
   "version": "3.9.6"
  }
 },
 "nbformat": 4,
 "nbformat_minor": 2
}
